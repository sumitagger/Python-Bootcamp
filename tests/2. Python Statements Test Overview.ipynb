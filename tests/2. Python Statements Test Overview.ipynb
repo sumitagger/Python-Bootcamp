{
 "cells": [
  {
   "cell_type": "markdown",
   "metadata": {},
   "source": [
    "# Guessing Game Challenge\n",
    "\n",
    "Let's use `while` loops to create a guessing game.\n",
    "\n",
    "The Challenge:\n",
    "\n",
    "Write a program that picks a random integer from 1 to 100, and has players guess the number. The rules are:\n",
    "\n",
    "1. If a player's guess is less than 1 or greater than 100, say \"OUT OF BOUNDS\"\n",
    "2. On a player's first turn, if their guess is\n",
    " * within 10 of the number, return \"WARM!\"\n",
    " * further than 10 away from the number, return \"COLD!\"\n",
    "3. On all subsequent turns, if a guess is \n",
    " * closer to the number than the previous guess return \"WARMER!\"\n",
    " * farther from the number than the previous guess, return \"COLDER!\"\n",
    "4. When the player's guess equals the number, tell them they've guessed correctly *and* how many guesses it took!\n",
    "\n",
    "You can try this from scratch, or follow the steps outlined below. A separate Solution notebook has been provided. Good luck!\n"
   ]
  },
  {
   "cell_type": "markdown",
   "metadata": {},
   "source": [
    "#### First, pick a random integer from 1 to 100 using the random module and assign it to a variable\n",
    "\n",
    "Note: `random.randint(a,b)` returns a random integer in range `[a, b]`, including both end points."
   ]
  },
  {
   "cell_type": "code",
   "execution_count": 10,
   "metadata": {},
   "outputs": [],
   "source": [
    "import random\n",
    "picked_num = random.randint(0,100)"
   ]
  },
  {
   "cell_type": "markdown",
   "metadata": {},
   "source": [
    "#### Next, print an introduction to the game and explain the rules"
   ]
  },
  {
   "cell_type": "code",
   "execution_count": 11,
   "metadata": {},
   "outputs": [
    {
     "name": "stdout",
     "output_type": "stream",
     "text": [
      "RULES: \n",
      "Computer picks a number between and including 1 to 100\n",
      "You have to guess the same number\n",
      "If the guess is outside the stated, I will call 'OUT OF BOUNDS'\n",
      "If the guess is off by 10, I will call 'COLD'\n",
      "If the guess is under by 10, I will call 'WARM'\n",
      "Closer the guess, I'll keep calling WARMER'\n",
      "If you start going away, I'll call 'COLDER'\n",
      "Let's Begin!\n"
     ]
    }
   ],
   "source": [
    "print('RULES: ')\n",
    "print('Computer picks a number between and including 1 to 100')\n",
    "print('You have to guess the same number')\n",
    "print(\"If the guess is outside the stated, I will call 'OUT OF BOUNDS'\")\n",
    "print(\"If the guess is off by 10, I will call 'COLD'\")\n",
    "print(\"If the guess is under by 10, I will call 'WARM'\")\n",
    "print(\"Closer the guess, I'll keep calling WARMER'\")\n",
    "print(\"If you start going away, I'll call 'COLDER'\")\n",
    "print(\"Let's Begin!\")"
   ]
  },
  {
   "cell_type": "markdown",
   "metadata": {},
   "source": [
    "#### Create a list to store guesses\n",
    "\n",
    "Hint: zero is a good placeholder value. It's useful because it evaluates to \"False\""
   ]
  },
  {
   "cell_type": "code",
   "execution_count": 12,
   "metadata": {},
   "outputs": [],
   "source": [
    "guesses = [0]"
   ]
  },
  {
   "cell_type": "markdown",
   "metadata": {},
   "source": [
    "#### Write a `while` loop that asks for a valid guess. Test it a few times to make sure it works."
   ]
  },
  {
   "cell_type": "code",
   "execution_count": 13,
   "metadata": {},
   "outputs": [
    {
     "name": "stdout",
     "output_type": "stream",
     "text": [
      "What is your guess? : 23\n",
      "What is your guess? : -1\n",
      "OUT OF BOUND\n"
     ]
    }
   ],
   "source": [
    "while True:\n",
    "    guess = int(input('What is your guess? : '))\n",
    "    if guess < 1 or guess > 100:\n",
    "        print('OUT OF BOUND')\n",
    "        break\n",
    "    pass"
   ]
  },
  {
   "cell_type": "markdown",
   "metadata": {},
   "source": [
    "#### Write a `while` loop that compares the player's guess to our number. If the player guesses correctly, break from the loop. Otherwise, tell the player if they're warmer or colder, and continue asking for guesses.\n",
    "\n",
    "Some hints:\n",
    "* it may help to sketch out all possible combinations on paper first!\n",
    "* you can use the `abs()` function to find the positive difference between two numbers\n",
    "* if you append all new guesses to the list, then the previous guess is given as `guesses[-2]`"
   ]
  },
  {
   "cell_type": "code",
   "execution_count": null,
   "metadata": {},
   "outputs": [
    {
     "name": "stdout",
     "output_type": "stream",
     "text": [
      "What is your guess? : 56\n",
      "Current Guesses: [0, 4, 9, 56, 67, 60, 23, 76, 78, 77, 75, 74, 73, 34, 56]\n",
      "WARMER\n",
      "What is your guess? : 67\n",
      "Current Guesses: [0, 4, 9, 56, 67, 60, 23, 76, 78, 77, 75, 74, 73, 34, 56, 67]\n",
      "WARMER\n",
      "What is your guess? : 77\n",
      "Current Guesses: [0, 4, 9, 56, 67, 60, 23, 76, 78, 77, 75, 74, 73, 34, 56, 67, 77]\n",
      "COLDER\n"
     ]
    }
   ],
   "source": [
    "while True:\n",
    "    guess = int(input('What is your guess? : '))\n",
    "    if guess < 1 or guess > 100:\n",
    "        print('OUT OF BOUND')\n",
    "        continue\n",
    "    elif guess == picked_num:\n",
    "        print('BRAVO!')\n",
    "        break\n",
    "        \n",
    "    guesses.append(guess)\n",
    "    print(f'Current Guesses: {guesses}')\n",
    "    \n",
    "    if guesses[-2]:\n",
    "        if abs(picked_num-guess) < abs(picked_num-guesses[-2]):\n",
    "            print('WARMER')\n",
    "        else:\n",
    "            print('COLDER')\n",
    "    else:\n",
    "        if abs(picked_num-guess)>10:\n",
    "            print('COLD')\n",
    "            continue\n",
    "        else:\n",
    "            print('WARM')\n",
    "            continue\n",
    "        \n",
    "    pass"
   ]
  },
  {
   "cell_type": "markdown",
   "metadata": {},
   "source": [
    "That's it! You've just programmed your first game!\n",
    "\n",
    "In the next section we'll learn how to turn some of these repetitive actions into *functions* that can be called whenever we need them."
   ]
  },
  {
   "cell_type": "markdown",
   "metadata": {},
   "source": [
    "### Good Job!"
   ]
  }
 ],
 "metadata": {
  "kernelspec": {
   "display_name": "Python 3",
   "language": "python",
   "name": "python3"
  },
  "language_info": {
   "codemirror_mode": {
    "name": "ipython",
    "version": 3
   },
   "file_extension": ".py",
   "mimetype": "text/x-python",
   "name": "python",
   "nbconvert_exporter": "python",
   "pygments_lexer": "ipython3",
   "version": "3.6.5"
  }
 },
 "nbformat": 4,
 "nbformat_minor": 2
}
